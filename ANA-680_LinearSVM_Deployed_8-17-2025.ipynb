{
 "cells": [
  {
   "cell_type": "code",
   "execution_count": 4,
   "id": "bea4c742",
   "metadata": {},
   "outputs": [
    {
     "name": "stdout",
     "output_type": "stream",
     "text": [
      "Model and scaler saved as pickle files.\n"
     ]
    }
   ],
   "source": [
    "import pandas as pd\n",
    "import numpy as np\n",
    "from sklearn.model_selection import train_test_split\n",
    "from sklearn.preprocessing import StandardScaler\n",
    "from sklearn.svm import LinearSVC\n",
    "from sklearn.calibration import CalibratedClassifierCV\n",
    "from sklearn.base import clone\n",
    "import pickle\n",
    "\n",
    "# Load cleaned data\n",
    "df = pd.read_csv('breast-cancer-wisconsin_cleaned.csv')\n",
    "features = ['1', '2', '3', '4', '5', '6', '7', '8', '9']\n",
    "X = df[features]\n",
    "y = df['10']  # Target already 0/1\n",
    "\n",
    "# Split data\n",
    "X_train, X_test, y_train, y_test = train_test_split(X, y, test_size=0.25, random_state=42)\n",
    "\n",
    "# Scale features\n",
    "scaler = StandardScaler()\n",
    "X_train_scaled = scaler.fit_transform(X_train)\n",
    "\n",
    "# Train tuned LinearSVC\n",
    "best_model = LinearSVC(C=0.5, max_iter=100, penalty='l2', dual=False, class_weight='balanced', random_state=42)\n",
    "best_model.fit(X_train_scaled, y_train)  # Fit the LinearSVC model\n",
    "\n",
    "# Calibrate for probabilities\n",
    "calibrated_model = CalibratedClassifierCV(clone(best_model), method='sigmoid')\n",
    "calibrated_model.fit(X_train_scaled, y_train)  # Fit the calibrated model\n",
    "\n",
    "# Save model and scaler\n",
    "with open('model.pkl', 'wb') as f:\n",
    "    pickle.dump(calibrated_model, f)\n",
    "with open('scaler.pkl', 'wb') as f:\n",
    "    pickle.dump(scaler, f)\n",
    "\n",
    "print(\"Model and scaler saved as pickle files.\")"
   ]
  }
 ],
 "metadata": {
  "kernelspec": {
   "display_name": "base",
   "language": "python",
   "name": "python3"
  },
  "language_info": {
   "codemirror_mode": {
    "name": "ipython",
    "version": 3
   },
   "file_extension": ".py",
   "mimetype": "text/x-python",
   "name": "python",
   "nbconvert_exporter": "python",
   "pygments_lexer": "ipython3",
   "version": "3.13.5"
  }
 },
 "nbformat": 4,
 "nbformat_minor": 5
}
